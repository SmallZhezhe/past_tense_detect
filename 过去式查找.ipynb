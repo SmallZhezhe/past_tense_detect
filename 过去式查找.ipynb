{
 "cells": [
  {
   "cell_type": "markdown",
   "metadata": {},
   "source": [
    "# 中文词性分析"
   ]
  },
  {
   "cell_type": "code",
   "execution_count": 30,
   "metadata": {
    "scrolled": true
   },
   "outputs": [
    {
     "name": "stdout",
     "output_type": "stream",
     "text": [
      "在_p 故事_n 的_uj 开头_v ，_x 出现_v 了_ul 一只_m 老鼠_n 机器人_n ，_x 它_r 想_v 偷_v 奶酪_n ，_x 但是_c 一只_m 猫_n 则_d 创造_v 了_ul 一只_m 猫_n 机器人_n 为_p 抓住_v 它_r 。_x 他们_r 的_uj 战斗_vn 持续_vd 了_ul 很久_m ，_x 总是_c 猫_n 输_v 而_c 老鼠_n 赢_v ，_x 正如_v 老鼠_n 总是_c 打败_v 了_ul 猫_n 因为_c 猫_n 太_d 笨拙_a 了_ul 。_x 在_p 故事_n 的_uj 结尾_n ，_x 一切_r 都_d 变_v 了_ul ！_x 这_r 是_v 千百年_m 前_f 的_uj 景象_n ！_x 它_r 向_p 我们_r 展示_v 了_ul 为什么_r 猫_n 要_v 吃_v 老鼠_n ，_x 但是_c 结局_n 并_c 没有_v 变_v 。_x \n",
      "了 的个数为：7\n"
     ]
    }
   ],
   "source": [
    "#通过jieba分词获取词的属性\n",
    "import jieba.posseg as peg\n",
    "in_str='''在故事的开头，出现了一只老鼠机器人，它想偷奶酪，但是一只猫则创造了一只猫机器人为抓住它。他们的战斗持续了很久，总是猫输而老鼠赢，正如老鼠总是打败了猫因为猫太笨拙了。在故事的结尾，一切都变了！这是千百年前的景象！它向我们展示了为什么猫要吃老鼠，但是结局并没有变。'''\n",
    "words=peg.cut(in_str)\n",
    "result1=\"\"\n",
    "i = 0\n",
    "for word,flag in words:\n",
    "    temp=\"%s_%s \"%(word,flag)\n",
    "    if flag == \"ul\":\n",
    "        i = i+1;\n",
    "    result1=result1+temp\n",
    "print(result1)\n",
    "print(\"了 的个数为：%d\"%(i));\n"
   ]
  },
  {
   "cell_type": "markdown",
   "metadata": {},
   "source": [
    "# 英文词性分析"
   ]
  },
  {
   "cell_type": "code",
   "execution_count": 35,
   "metadata": {},
   "outputs": [
    {
     "name": "stdout",
     "output_type": "stream",
     "text": [
      "were VBD\n",
      "saw VBD\n",
      "called VBD\n",
      "were VBD\n",
      "used VBD\n",
      "used VBD\n",
      "avoided VBD\n",
      "catched VBD\n",
      "discovered VBD\n",
      "was VBD\n",
      "came VBD\n",
      "过去式的个数是:11\n"
     ]
    }
   ],
   "source": [
    "import nltk\n",
    "line = 'Today we were saw the cartoon called Tom and Jerry.There is a mouse called Jerry and there is a cat called Tom.They were inventing some high-tech in their laboratory.First,Jerry used robot to stole the cheese and Tom used a robot to stop Tom.However,Toms robot nimble avoided the Toms robot and succeed to stole the cheese.Second,Tom transparent catched Jerry but Jerry discovered him.In the end,the laboratory was broken and they came back original world.'\n",
    "tokens = nltk.word_tokenize(line)\n",
    "#print(tokens)\n",
    "# ['i', 'love', 'this', 'world', 'which', 'was', 'beloved', 'by', \n",
    "# 'all', 'the', 'people', 'here']\n",
    "pos_tags = nltk.pos_tag(tokens)\n",
    "#print(pos_tags)\n",
    "# [('i', 'RB'), ('love', 'VBP'), ('this', 'DT'), ('world', 'NN'), ('which', 'WDT'), \n",
    "# ('was', 'VBD'), ('beloved', 'VBN'), ('by', 'IN'), ('all', 'PDT'), ('the', 'DT'),\n",
    "# ('people', 'NNS'), ('here', 'RB')]\n",
    "i=0;\n",
    "for word,pos in pos_tags:\n",
    "     if (pos == 'VBD'):\n",
    "        print(word,pos)\n",
    "        i = i + 1\n",
    "print('过去式的个数是:%d'%i)\n",
    "# world NN\n",
    "# people NNS"
   ]
  }
 ],
 "metadata": {
  "kernelspec": {
   "display_name": "Python 3",
   "language": "python",
   "name": "python3"
  },
  "language_info": {
   "codemirror_mode": {
    "name": "ipython",
    "version": 3
   },
   "file_extension": ".py",
   "mimetype": "text/x-python",
   "name": "python",
   "nbconvert_exporter": "python",
   "pygments_lexer": "ipython3",
   "version": "3.7.3"
  }
 },
 "nbformat": 4,
 "nbformat_minor": 2
}
